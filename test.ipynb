{
 "cells": [
  {
   "cell_type": "markdown",
   "metadata": {},
   "source": [
    "# 加入测试变量"
   ]
  },
  {
   "cell_type": "code",
   "execution_count": 1,
   "metadata": {},
   "outputs": [],
   "source": [
    "a = [\n",
    "    {'exp': [3]},\n",
    "    {'exp': [1], \"jump\": ['JMP', 2]},\n",
    "    {'exp': [1], 'jump': ['JNE', 3]},   \n",
    "    {'exp': [3]}\n",
    "]"
   ]
  },
  {
   "cell_type": "markdown",
   "metadata": {},
   "source": [
    "# 遍历并跳转"
   ]
  },
  {
   "cell_type": "code",
   "execution_count": 2,
   "metadata": {},
   "outputs": [
    {
     "name": "stdout",
     "output_type": "stream",
     "text": [
      "{'exp': [3]}\n",
      "{'exp': [1], 'jump': ['JMP', 2]}\n",
      "{'exp': [1], 'jump': ['JNE', 3]}\n",
      "{'exp': [3]}\n"
     ]
    }
   ],
   "source": [
    "i = 0\n",
    "while i < len(a):\n",
    "    print(a[i])\n",
    "    if 'jump' in a[i] and len(a[i]['jump']):\n",
    "        jump = a[i]['jump']\n",
    "        exp = a[i]['exp']\n",
    "        if jump[0] == 'JNE' and len(exp) and exp[0]:\n",
    "            i = jump[1]\n",
    "            continue\n",
    "        elif jump[0] == 'JMP':\n",
    "            i = jump[1]\n",
    "            continue\n",
    "    i = i+1"
   ]
  }
 ],
 "metadata": {
  "kernelspec": {
   "display_name": "Python 3.10.8 64-bit",
   "language": "python",
   "name": "python3"
  },
  "language_info": {
   "codemirror_mode": {
    "name": "ipython",
    "version": 3
   },
   "file_extension": ".py",
   "mimetype": "text/x-python",
   "name": "python",
   "nbconvert_exporter": "python",
   "pygments_lexer": "ipython3",
   "version": "3.10.8 (main, Oct 21 2022, 22:22:30) [Clang 14.0.0 (clang-1400.0.29.202)]"
  },
  "orig_nbformat": 4,
  "vscode": {
   "interpreter": {
    "hash": "b0fa6594d8f4cbf19f97940f81e996739fb7646882a419484c72d19e05852a7e"
   }
  }
 },
 "nbformat": 4,
 "nbformat_minor": 2
}
