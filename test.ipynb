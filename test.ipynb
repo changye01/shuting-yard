{
 "cells": [
  {
   "cell_type": "markdown",
   "metadata": {},
   "source": [
    "1. 加入测试变量"
   ]
  },
  {
   "cell_type": "code",
   "execution_count": null,
   "metadata": {},
   "outputs": [],
   "source": [
    "# a = [\n",
    "#     {'exp': [3]},\n",
    "#     {'exp': [1], \"jump\": ['JMP', 2]},\n",
    "#     {'exp': [1], 'jump': ['JNE', 3]},\n",
    "#     {'exp': [3]}\n",
    "# ]"
   ]
  },
  {
   "cell_type": "markdown",
   "metadata": {},
   "source": [
    "2. 遍历并跳转"
   ]
  },
  {
   "cell_type": "code",
   "execution_count": null,
   "metadata": {},
   "outputs": [],
   "source": [
    "# i = 0\n",
    "# while i < len(a):\n",
    "#     print(a[i])\n",
    "#     if 'jump' in a[i] and len(a[i]['jump']):\n",
    "#         jump = a[i]['jump']\n",
    "#         exp = a[i]['exp']\n",
    "#         if jump[0] == 'JNE' and len(exp) and exp[0]:\n",
    "#             i = jump[1]\n",
    "#             continue\n",
    "#         elif jump[0] == 'JMP':\n",
    "#             i = jump[1]\n",
    "#             continue\n",
    "#     i = i+1"
   ]
  },
  {
   "attachments": {},
   "cell_type": "markdown",
   "metadata": {
    "collapsed": false
   },
   "source": [
    "3. 解析指定公式的顺序"
   ]
  },
  {
   "cell_type": "code",
   "execution_count": null,
   "metadata": {},
   "outputs": [],
   "source": [
    "a = \"if 1 then 0 else 1 endif\""
   ]
  },
  {
   "cell_type": "markdown",
   "metadata": {
    "collapsed": false
   },
   "source": [
    "解析process\n",
    "1. 所有的隐藏公式  x1 if x2 then x3 else x4 endif x5\n",
    "2. 公式解析成list\n",
    "    ```\n",
    "    [\n",
    "        {\"exp\": x1},\n",
    "        {\"exp\": x2},\n",
    "        {\"exp\": x3},\n",
    "        {\"exp\": x4}\n",
    "        {\"exp\": x5}\n",
    "    ]\n",
    "    ```\n",
    "3. j\n",
    "4.\n",
    "5.\n",
    "6.\n",
    "7. je jne jz jnz\n",
    "4.\n"
   ]
  },
  {
   "cell_type": "code",
   "execution_count": null,
   "metadata": {
    "collapsed": false
   },
   "outputs": [],
   "source": []
  }
 ],
 "metadata": {
  "kernelspec": {
   "display_name": "Python 3",
   "language": "python",
   "name": "python3"
  },
  "language_info": {
   "codemirror_mode": {
    "name": "ipython",
    "version": 3
   },
   "file_extension": ".py",
   "mimetype": "text/x-python",
   "name": "python",
   "nbconvert_exporter": "python",
   "pygments_lexer": "ipython3",
   "version": "3.10.6 (main, Nov 14 2022, 16:10:14) [GCC 11.3.0]"
  },
  "orig_nbformat": 4,
  "vscode": {
   "interpreter": {
    "hash": "916dbcbb3f70747c44a77c7bcd40155683ae19c65e1c03b4aa3499c5328201f1"
   }
  }
 },
 "nbformat": 4,
 "nbformat_minor": 2
}
